{
 "cells": [
  {
   "cell_type": "code",
   "execution_count": 23,
   "metadata": {},
   "outputs": [],
   "source": [
    "# import packages \n",
    "import numpy as np\n",
    "import pandas as pd\n",
    "from numpy.polynomial.polynomial import polyfit\n",
    "import matplotlib.pyplot as plt\n",
    "%matplotlib inline"
   ]
  },
  {
   "cell_type": "code",
   "execution_count": 2,
   "metadata": {},
   "outputs": [],
   "source": [
    "# open & read file\n",
    "file = \"C:\\\\Users\\\\Dennis_Qu\\\\Desktop\\\\Python\\\\Final_Project\\\\final_project_dataset.xlsx\"\n",
    "data = pd.read_excel(file,sheet_name = '2018') # total 300 clients "
   ]
  },
  {
   "cell_type": "code",
   "execution_count": 3,
   "metadata": {},
   "outputs": [],
   "source": [
    "# grouped customers by purchase volume => unit_segment \n",
    "data.loc[(data.unit_purchased <= 49), 'unit_segment'] = 1\n",
    "data.loc[(data.unit_purchased >= 50), 'unit_segment'] = 2\n",
    "data.loc[(data.unit_purchased >= 101), 'unit_segment'] = 3\n",
    "data.loc[(data.unit_purchased >= 200), 'unit_segment'] = 4"
   ]
  },
  {
   "cell_type": "code",
   "execution_count": 4,
   "metadata": {},
   "outputs": [],
   "source": [
    "# convert categorical data to numarical data. if Fixed rate = 1 non Fixed rate = '0'\n",
    "data['fixed_rate'] = data.fixed_rate.map({'no':0, 'yes':1}) "
   ]
  },
  {
   "cell_type": "code",
   "execution_count": 5,
   "metadata": {},
   "outputs": [],
   "source": [
    "# define 12 months in list\n",
    "month = ['Jan','Feb','Mar','Apr','May', 'Jun', 'Jul', 'Aug', 'Sep', 'Oct', 'Nov', 'Dec'] \n",
    "# add 12 month columns and name with list month \n",
    "data[['Jan','Feb','Mar','Apr','May', 'Jun', 'Jul', 'Aug', 'Sep', 'Oct', 'Nov', 'Dec']] = pd.DataFrame([[1, 2, 3, 4, 5, 6, 7, 8, 9, 10, 11, 12]], index=data.index) \n",
    "# add default value to each month\n",
    "data['renewal_month'] = data.renewal_month.map({'January':1, 'February':2,'March':3, 'April':4, 'May':5, 'June':6, 'July': 7, 'August': 8, 'Septembr':9, 'October':10, 'November':11, 'December':12})"
   ]
  },
  {
   "cell_type": "code",
   "execution_count": 6,
   "metadata": {},
   "outputs": [],
   "source": [
    "# step 1.1 - set up the baseline/minimum increase for 2019, wtih no client convert from standard to premier"
   ]
  },
  {
   "cell_type": "code",
   "execution_count": 7,
   "metadata": {},
   "outputs": [],
   "source": [
    "# Applying 2019 price plan (please refer to read me) to each client. 0% client will convert from standard model to premier model. \n",
    "data.loc[(data.fixed_rate == 1), 'new_rate'] = data.unit_price.apply(lambda x:x)  # if fixed rate yes. no price increase in 2019\n",
    "data.loc[(data.unit_segment == 1) & (data.fixed_rate == 0), 'new_rate'] = data.unit_price.apply(lambda x:x*1.15) \n",
    "data.loc[(data.unit_segment == 2) & (data.fixed_rate == 0), 'new_rate'] = data.unit_price.apply(lambda x:x*1.10)\n",
    "data.loc[(data.unit_segment == 3) & (data.fixed_rate == 0), 'new_rate'] = data.unit_price.apply(lambda x:x*1.05)\n",
    "data.loc[(data.unit_segment == 4) & (data.fixed_rate == 0), 'new_rate'] = data.unit_price.apply(lambda x:x*1.02)\n",
    "# calculate the price increase % for each client with new rate calculated \n",
    "data.rate_increase = (data.new_rate/data.unit_price)-1"
   ]
  },
  {
   "cell_type": "code",
   "execution_count": 8,
   "metadata": {},
   "outputs": [],
   "source": [
    "#Broacating unit_price(2018 rate) and new_rate (2019 rate) per renewal_month\n",
    "# FOR EXAMPLE FOR OCT RENEWAL: PRIOR TO OCT WILL USE UNIT_PRICE AND AFTER OCT WILL USE NEW_RATE \n",
    "def assign_rate(data, month):\n",
    "    for x in range(len(month)):\n",
    "        data[month[x]] = data['new_rate'].where(data['renewal_month'] <= x+1, data['unit_price']) \n",
    "        x =+ 1"
   ]
  },
  {
   "cell_type": "code",
   "execution_count": 9,
   "metadata": {},
   "outputs": [
    {
     "data": {
      "text/html": [
       "<div>\n",
       "<style scoped>\n",
       "    .dataframe tbody tr th:only-of-type {\n",
       "        vertical-align: middle;\n",
       "    }\n",
       "\n",
       "    .dataframe tbody tr th {\n",
       "        vertical-align: top;\n",
       "    }\n",
       "\n",
       "    .dataframe thead th {\n",
       "        text-align: right;\n",
       "    }\n",
       "</style>\n",
       "<table border=\"1\" class=\"dataframe\">\n",
       "  <thead>\n",
       "    <tr style=\"text-align: right;\">\n",
       "      <th></th>\n",
       "      <th>client_name</th>\n",
       "      <th>model</th>\n",
       "      <th>unit_price</th>\n",
       "      <th>unit_purchased</th>\n",
       "      <th>unit_segment</th>\n",
       "      <th>standard_rate</th>\n",
       "      <th>rate_gap</th>\n",
       "      <th>start_year</th>\n",
       "      <th>renewal_month</th>\n",
       "      <th>fixed_rate</th>\n",
       "      <th>...</th>\n",
       "      <th>Mar</th>\n",
       "      <th>Apr</th>\n",
       "      <th>May</th>\n",
       "      <th>Jun</th>\n",
       "      <th>Jul</th>\n",
       "      <th>Aug</th>\n",
       "      <th>Sep</th>\n",
       "      <th>Oct</th>\n",
       "      <th>Nov</th>\n",
       "      <th>Dec</th>\n",
       "    </tr>\n",
       "  </thead>\n",
       "  <tbody>\n",
       "    <tr>\n",
       "      <th>0</th>\n",
       "      <td>client1</td>\n",
       "      <td>premier</td>\n",
       "      <td>110</td>\n",
       "      <td>60.0</td>\n",
       "      <td>2</td>\n",
       "      <td>100</td>\n",
       "      <td>0.1</td>\n",
       "      <td>2018</td>\n",
       "      <td>4.0</td>\n",
       "      <td>0</td>\n",
       "      <td>...</td>\n",
       "      <td>110.0</td>\n",
       "      <td>121.0</td>\n",
       "      <td>121.0</td>\n",
       "      <td>121.0</td>\n",
       "      <td>121.0</td>\n",
       "      <td>121.0</td>\n",
       "      <td>121.0</td>\n",
       "      <td>121.0</td>\n",
       "      <td>121.0</td>\n",
       "      <td>121.0</td>\n",
       "    </tr>\n",
       "    <tr>\n",
       "      <th>1</th>\n",
       "      <td>client2</td>\n",
       "      <td>premier</td>\n",
       "      <td>110</td>\n",
       "      <td>40.0</td>\n",
       "      <td>1</td>\n",
       "      <td>100</td>\n",
       "      <td>0.1</td>\n",
       "      <td>2018</td>\n",
       "      <td>4.0</td>\n",
       "      <td>0</td>\n",
       "      <td>...</td>\n",
       "      <td>110.0</td>\n",
       "      <td>126.5</td>\n",
       "      <td>126.5</td>\n",
       "      <td>126.5</td>\n",
       "      <td>126.5</td>\n",
       "      <td>126.5</td>\n",
       "      <td>126.5</td>\n",
       "      <td>126.5</td>\n",
       "      <td>126.5</td>\n",
       "      <td>126.5</td>\n",
       "    </tr>\n",
       "    <tr>\n",
       "      <th>2</th>\n",
       "      <td>client3</td>\n",
       "      <td>premier</td>\n",
       "      <td>110</td>\n",
       "      <td>260.0</td>\n",
       "      <td>4</td>\n",
       "      <td>100</td>\n",
       "      <td>0.1</td>\n",
       "      <td>2018</td>\n",
       "      <td>4.0</td>\n",
       "      <td>0</td>\n",
       "      <td>...</td>\n",
       "      <td>110.0</td>\n",
       "      <td>112.2</td>\n",
       "      <td>112.2</td>\n",
       "      <td>112.2</td>\n",
       "      <td>112.2</td>\n",
       "      <td>112.2</td>\n",
       "      <td>112.2</td>\n",
       "      <td>112.2</td>\n",
       "      <td>112.2</td>\n",
       "      <td>112.2</td>\n",
       "    </tr>\n",
       "    <tr>\n",
       "      <th>3</th>\n",
       "      <td>client4</td>\n",
       "      <td>premier</td>\n",
       "      <td>110</td>\n",
       "      <td>300.0</td>\n",
       "      <td>4</td>\n",
       "      <td>100</td>\n",
       "      <td>0.1</td>\n",
       "      <td>2018</td>\n",
       "      <td>4.0</td>\n",
       "      <td>1</td>\n",
       "      <td>...</td>\n",
       "      <td>110.0</td>\n",
       "      <td>110.0</td>\n",
       "      <td>110.0</td>\n",
       "      <td>110.0</td>\n",
       "      <td>110.0</td>\n",
       "      <td>110.0</td>\n",
       "      <td>110.0</td>\n",
       "      <td>110.0</td>\n",
       "      <td>110.0</td>\n",
       "      <td>110.0</td>\n",
       "    </tr>\n",
       "    <tr>\n",
       "      <th>4</th>\n",
       "      <td>client5</td>\n",
       "      <td>premier</td>\n",
       "      <td>110</td>\n",
       "      <td>70.0</td>\n",
       "      <td>2</td>\n",
       "      <td>100</td>\n",
       "      <td>0.1</td>\n",
       "      <td>2018</td>\n",
       "      <td>4.0</td>\n",
       "      <td>1</td>\n",
       "      <td>...</td>\n",
       "      <td>110.0</td>\n",
       "      <td>110.0</td>\n",
       "      <td>110.0</td>\n",
       "      <td>110.0</td>\n",
       "      <td>110.0</td>\n",
       "      <td>110.0</td>\n",
       "      <td>110.0</td>\n",
       "      <td>110.0</td>\n",
       "      <td>110.0</td>\n",
       "      <td>110.0</td>\n",
       "    </tr>\n",
       "  </tbody>\n",
       "</table>\n",
       "<p>5 rows × 24 columns</p>\n",
       "</div>"
      ],
      "text/plain": [
       "  client_name     model  unit_price  unit_purchased  unit_segment  \\\n",
       "0      client1  premier         110            60.0             2   \n",
       "1      client2  premier         110            40.0             1   \n",
       "2      client3  premier         110           260.0             4   \n",
       "3      client4  premier         110           300.0             4   \n",
       "4      client5  premier         110            70.0             2   \n",
       "\n",
       "   standard_rate   rate_gap  start_year  renewal_month  fixed_rate  ...    \\\n",
       "0             100       0.1        2018            4.0           0  ...     \n",
       "1             100       0.1        2018            4.0           0  ...     \n",
       "2             100       0.1        2018            4.0           0  ...     \n",
       "3             100       0.1        2018            4.0           1  ...     \n",
       "4             100       0.1        2018            4.0           1  ...     \n",
       "\n",
       "     Mar    Apr    May    Jun    Jul    Aug    Sep    Oct    Nov    Dec  \n",
       "0  110.0  121.0  121.0  121.0  121.0  121.0  121.0  121.0  121.0  121.0  \n",
       "1  110.0  126.5  126.5  126.5  126.5  126.5  126.5  126.5  126.5  126.5  \n",
       "2  110.0  112.2  112.2  112.2  112.2  112.2  112.2  112.2  112.2  112.2  \n",
       "3  110.0  110.0  110.0  110.0  110.0  110.0  110.0  110.0  110.0  110.0  \n",
       "4  110.0  110.0  110.0  110.0  110.0  110.0  110.0  110.0  110.0  110.0  \n",
       "\n",
       "[5 rows x 24 columns]"
      ]
     },
     "execution_count": 9,
     "metadata": {},
     "output_type": "execute_result"
    }
   ],
   "source": [
    "assign_rate(data, month)\n",
    "data.head()"
   ]
  },
  {
   "cell_type": "code",
   "execution_count": 10,
   "metadata": {},
   "outputs": [
    {
     "name": "stdout",
     "output_type": "stream",
     "text": [
      "[101.66666666666667, 101.99666666666667, 102.39833333333333, 102.95666666666666, 103.41733333333333, 104.00066666666667, 104.56466666666667, 105.59200000000001, 106.20866666666667, 106.20866666666667, 106.74100000000001, 107.32266666666668, 108.26933333333335]\n"
     ]
    }
   ],
   "source": [
    "# Calculate average price for each month Dec.18 - Dec.19 & save to list\n",
    "a = data.mean(axis=0).values.tolist()\n",
    "del a[1:10]\n",
    "print(a)"
   ]
  },
  {
   "cell_type": "code",
   "execution_count": 11,
   "metadata": {},
   "outputs": [],
   "source": [
    "# Calculate weighted average price for each month# Dec.18 - Dec.19 & save to list\n",
    "def wavg(data, month, unit_purchased):\n",
    "    \"\"\" pandas-dataframe-aggregate-function-using-multiple-columns\n",
    "    In rare instance, we may not have weights, so just return the mean. Customize this if your business case\n",
    "    should return otherwise.\n",
    "    \"\"\"\n",
    "    d = data[month]\n",
    "    w = data[unit_purchased]\n",
    "    try:\n",
    "        return (d * w).sum() / w.sum()\n",
    "    except ZeroDivisionError:\n",
    "        return d.mean()\n"
   ]
  },
  {
   "cell_type": "code",
   "execution_count": 12,
   "metadata": {},
   "outputs": [],
   "source": [
    "# second function to broadcast weighted average calculation to the month coulumn\n",
    "def group_wavg(data, month):\n",
    "    for x in range(len(month)):\n",
    "        yield wavg(data, month[x], \"unit_purchased\")"
   ]
  },
  {
   "cell_type": "code",
   "execution_count": 13,
   "metadata": {},
   "outputs": [],
   "source": [
    "# weighted average for unit_price which is Dec. 2018 price\n",
    "WA18 = wavg(data, 'unit_price', 'unit_purchased')"
   ]
  },
  {
   "cell_type": "code",
   "execution_count": 14,
   "metadata": {},
   "outputs": [
    {
     "name": "stdout",
     "output_type": "stream",
     "text": [
      "[105.11275655900582, 105.4236540933197, 105.6194043927025, 105.9638591211963, 106.28877171896178, 106.62158670696455, 106.94770560909598, 107.40278941435021, 107.70798441893416, 107.70798441893416, 108.05952344397704, 108.49971487351351, 109.01535515793815]\n"
     ]
    }
   ],
   "source": [
    "# create list to hold Dec. 2018 & 2019 Jan - Dec. monthly weighted average for plotting\n",
    "A = list(group_wavg(data,month))\n",
    "A = [WA18] + A\n",
    "print(A)"
   ]
  },
  {
   "cell_type": "code",
   "execution_count": 15,
   "metadata": {},
   "outputs": [],
   "source": [
    "# Step 1.2 - calculate Max price increase by convert all Standard Model client to Premier Model with 20% increase"
   ]
  },
  {
   "cell_type": "code",
   "execution_count": 16,
   "metadata": {},
   "outputs": [],
   "source": [
    "# create a seperate dataframe \n",
    "data2 = data.copy()"
   ]
  },
  {
   "cell_type": "code",
   "execution_count": 17,
   "metadata": {},
   "outputs": [
    {
     "data": {
      "text/html": [
       "<div>\n",
       "<style scoped>\n",
       "    .dataframe tbody tr th:only-of-type {\n",
       "        vertical-align: middle;\n",
       "    }\n",
       "\n",
       "    .dataframe tbody tr th {\n",
       "        vertical-align: top;\n",
       "    }\n",
       "\n",
       "    .dataframe thead th {\n",
       "        text-align: right;\n",
       "    }\n",
       "</style>\n",
       "<table border=\"1\" class=\"dataframe\">\n",
       "  <thead>\n",
       "    <tr style=\"text-align: right;\">\n",
       "      <th></th>\n",
       "      <th>unit_segment</th>\n",
       "      <th>standard_rate</th>\n",
       "      <th>rate_gap</th>\n",
       "      <th>start_year</th>\n",
       "      <th>renewal_month</th>\n",
       "      <th>fixed_rate</th>\n",
       "      <th>new_rate</th>\n",
       "      <th>rate_increase</th>\n",
       "      <th>Jan</th>\n",
       "      <th>Feb</th>\n",
       "      <th>Mar</th>\n",
       "      <th>Apr</th>\n",
       "      <th>May</th>\n",
       "      <th>Jun</th>\n",
       "      <th>Jul</th>\n",
       "      <th>Aug</th>\n",
       "      <th>Sep</th>\n",
       "      <th>Oct</th>\n",
       "      <th>Nov</th>\n",
       "      <th>Dec</th>\n",
       "    </tr>\n",
       "  </thead>\n",
       "  <tbody>\n",
       "    <tr>\n",
       "      <th>0</th>\n",
       "      <td>2</td>\n",
       "      <td>100</td>\n",
       "      <td>0.1</td>\n",
       "      <td>2018</td>\n",
       "      <td>4.0</td>\n",
       "      <td>0</td>\n",
       "      <td>121.0</td>\n",
       "      <td>0.10</td>\n",
       "      <td>110.0</td>\n",
       "      <td>110.0</td>\n",
       "      <td>110.0</td>\n",
       "      <td>121.0</td>\n",
       "      <td>121.0</td>\n",
       "      <td>121.0</td>\n",
       "      <td>121.0</td>\n",
       "      <td>121.0</td>\n",
       "      <td>121.0</td>\n",
       "      <td>121.0</td>\n",
       "      <td>121.0</td>\n",
       "      <td>121.0</td>\n",
       "    </tr>\n",
       "    <tr>\n",
       "      <th>1</th>\n",
       "      <td>1</td>\n",
       "      <td>100</td>\n",
       "      <td>0.1</td>\n",
       "      <td>2018</td>\n",
       "      <td>4.0</td>\n",
       "      <td>0</td>\n",
       "      <td>126.5</td>\n",
       "      <td>0.15</td>\n",
       "      <td>110.0</td>\n",
       "      <td>110.0</td>\n",
       "      <td>110.0</td>\n",
       "      <td>126.5</td>\n",
       "      <td>126.5</td>\n",
       "      <td>126.5</td>\n",
       "      <td>126.5</td>\n",
       "      <td>126.5</td>\n",
       "      <td>126.5</td>\n",
       "      <td>126.5</td>\n",
       "      <td>126.5</td>\n",
       "      <td>126.5</td>\n",
       "    </tr>\n",
       "    <tr>\n",
       "      <th>2</th>\n",
       "      <td>4</td>\n",
       "      <td>100</td>\n",
       "      <td>0.1</td>\n",
       "      <td>2018</td>\n",
       "      <td>4.0</td>\n",
       "      <td>0</td>\n",
       "      <td>112.2</td>\n",
       "      <td>0.02</td>\n",
       "      <td>110.0</td>\n",
       "      <td>110.0</td>\n",
       "      <td>110.0</td>\n",
       "      <td>112.2</td>\n",
       "      <td>112.2</td>\n",
       "      <td>112.2</td>\n",
       "      <td>112.2</td>\n",
       "      <td>112.2</td>\n",
       "      <td>112.2</td>\n",
       "      <td>112.2</td>\n",
       "      <td>112.2</td>\n",
       "      <td>112.2</td>\n",
       "    </tr>\n",
       "    <tr>\n",
       "      <th>3</th>\n",
       "      <td>4</td>\n",
       "      <td>100</td>\n",
       "      <td>0.1</td>\n",
       "      <td>2018</td>\n",
       "      <td>4.0</td>\n",
       "      <td>1</td>\n",
       "      <td>110.0</td>\n",
       "      <td>0.00</td>\n",
       "      <td>110.0</td>\n",
       "      <td>110.0</td>\n",
       "      <td>110.0</td>\n",
       "      <td>110.0</td>\n",
       "      <td>110.0</td>\n",
       "      <td>110.0</td>\n",
       "      <td>110.0</td>\n",
       "      <td>110.0</td>\n",
       "      <td>110.0</td>\n",
       "      <td>110.0</td>\n",
       "      <td>110.0</td>\n",
       "      <td>110.0</td>\n",
       "    </tr>\n",
       "    <tr>\n",
       "      <th>4</th>\n",
       "      <td>2</td>\n",
       "      <td>100</td>\n",
       "      <td>0.1</td>\n",
       "      <td>2018</td>\n",
       "      <td>4.0</td>\n",
       "      <td>1</td>\n",
       "      <td>110.0</td>\n",
       "      <td>0.00</td>\n",
       "      <td>110.0</td>\n",
       "      <td>110.0</td>\n",
       "      <td>110.0</td>\n",
       "      <td>110.0</td>\n",
       "      <td>110.0</td>\n",
       "      <td>110.0</td>\n",
       "      <td>110.0</td>\n",
       "      <td>110.0</td>\n",
       "      <td>110.0</td>\n",
       "      <td>110.0</td>\n",
       "      <td>110.0</td>\n",
       "      <td>110.0</td>\n",
       "    </tr>\n",
       "  </tbody>\n",
       "</table>\n",
       "</div>"
      ],
      "text/plain": [
       "   unit_segment  standard_rate   rate_gap  start_year  renewal_month  \\\n",
       "0             2             100       0.1        2018            4.0   \n",
       "1             1             100       0.1        2018            4.0   \n",
       "2             4             100       0.1        2018            4.0   \n",
       "3             4             100       0.1        2018            4.0   \n",
       "4             2             100       0.1        2018            4.0   \n",
       "\n",
       "   fixed_rate  new_rate  rate_increase    Jan    Feb    Mar    Apr    May  \\\n",
       "0           0     121.0           0.10  110.0  110.0  110.0  121.0  121.0   \n",
       "1           0     126.5           0.15  110.0  110.0  110.0  126.5  126.5   \n",
       "2           0     112.2           0.02  110.0  110.0  110.0  112.2  112.2   \n",
       "3           1     110.0           0.00  110.0  110.0  110.0  110.0  110.0   \n",
       "4           1     110.0           0.00  110.0  110.0  110.0  110.0  110.0   \n",
       "\n",
       "     Jun    Jul    Aug    Sep    Oct    Nov    Dec  \n",
       "0  121.0  121.0  121.0  121.0  121.0  121.0  121.0  \n",
       "1  126.5  126.5  126.5  126.5  126.5  126.5  126.5  \n",
       "2  112.2  112.2  112.2  112.2  112.2  112.2  112.2  \n",
       "3  110.0  110.0  110.0  110.0  110.0  110.0  110.0  \n",
       "4  110.0  110.0  110.0  110.0  110.0  110.0  110.0  "
      ]
     },
     "execution_count": 17,
     "metadata": {},
     "output_type": "execute_result"
    }
   ],
   "source": [
    "data2.loc[data2.model == 'standard','new_rate'] = data2.unit_price.apply(lambda x:x*1.2) # convert \"standard\" to \"premier\" with 20% rate increase \n",
    "data2.rate_increase = (data2.new_rate/data2.unit_price)-1\n",
    "data2.iloc[:,4:24].head()"
   ]
  },
  {
   "cell_type": "code",
   "execution_count": 18,
   "metadata": {},
   "outputs": [],
   "source": [
    "# call function assign_rate Broacating unit_price and new_rate per renewal_month\n",
    "# if renewal_month = Jan, Month jan - Dec = 'new_rate'\n",
    "# if renewal_month = Feb, Month Jan = 'old_rate', Month Feb - Dec = 'new_rate'\n",
    "assign_rate(data2, month)"
   ]
  },
  {
   "cell_type": "code",
   "execution_count": 19,
   "metadata": {},
   "outputs": [
    {
     "name": "stdout",
     "output_type": "stream",
     "text": [
      "[101.66666666666667, 102.41666666666667, 103.08833333333334, 104.09333333333333, 104.95566666666667, 105.73400000000001, 106.848, 108.2745, 109.34950000000002, 109.34950000000002, 110.12016666666668, 111.05183333333335, 112.46516666666668]\n"
     ]
    }
   ],
   "source": [
    "# Calculate average price for each month\n",
    "b = data2.mean(axis=0).values.tolist()\n",
    "del b[1:10]\n",
    "print(b)"
   ]
  },
  {
   "cell_type": "code",
   "execution_count": 20,
   "metadata": {},
   "outputs": [
    {
     "data": {
      "text/plain": [
       "105.11275655900582"
      ]
     },
     "execution_count": 20,
     "metadata": {},
     "output_type": "execute_result"
    }
   ],
   "source": [
    "# weighted average for unit_price which is Dec. 2018 price\n",
    "WA182 = wavg(data2, 'unit_price', 'unit_purchased')\n",
    "WA182"
   ]
  },
  {
   "cell_type": "code",
   "execution_count": 21,
   "metadata": {},
   "outputs": [
    {
     "name": "stdout",
     "output_type": "stream",
     "text": [
      "[105.11275655900582, 105.73948650913061, 106.03590839105317, 106.62853282683172, 107.36556286161715, 107.77761230693648, 108.37185977040738, 109.09551079313415, 110.05265847549448, 110.05265847549448, 110.6072952901491, 111.2988366839351, 112.22681373344622]\n"
     ]
    }
   ],
   "source": [
    "# list of weighted average\n",
    "B = list(group_wavg(data2, month))\n",
    "B = [WA182] + B\n",
    "print(B)"
   ]
  },
  {
   "cell_type": "code",
   "execution_count": 24,
   "metadata": {},
   "outputs": [
    {
     "data": {
      "image/png": "[encoded data removed]",
      "text/plain": [
       "<Figure size 1080x360 with 2 Axes>"
      ]
     },
     "metadata": {
      "needs_background": "light"
     },
     "output_type": "display_data"
    }
   ],
   "source": [
    "fig, axes = plt.subplots(1, 2, figsize=(15,5))\n",
    "M = np.linspace(0,12,13, dtype = 'int32')\n",
    "Month1 = ['Dec.18','Jan','Feb','Mar','Apr','May', 'Jun', 'Jul', 'Aug', 'Sep', 'Oct', 'Nov', 'Dec'] \n",
    "\n",
    "X, Y = polyfit(M, a, 1)\n",
    "axes[0].plot(M, X+Y*M, color = 'red', ls = '--', label = 'fitted line')\n",
    "X, Y = polyfit(M, b, 1)\n",
    "axes[0].plot(M, X+Y*M, color = 'blue',ls = '--', label = 'fitted line')\n",
    "axes[0].plot(Month1, a, color='blue', lw = 2, linestyle='-', label = '0% PREMIER CONVERSION' )\n",
    "axes[0].plot(Month1, b, color='red', lw = 2, linestyle='-', label = '100% PREMIER CONVERSION' )\n",
    "axes[0].set_xlabel('MONTH')\n",
    "axes[0].set_ylabel('PRICE')\n",
    "axes[0].set_title('2019 AVERAGE PRICE')\n",
    "axes[0].legend(loc=0) \n",
    "axes[0].grid(True)\n",
    "\n",
    "#plt.subplot(1,2,2)\n",
    "X, Y = polyfit(M, A, 1)\n",
    "axes[1].plot(M,X+Y*M, color = 'red', ls = '--', label = 'fitted line')\n",
    "X, Y = polyfit(M, B, 1)\n",
    "axes[1].plot(M,X+Y*M, color = 'blue', ls = '--', label = 'fitted line')\n",
    "axes[1].plot(Month1, A, color='blue', lw = 2, linestyle='-', label = '0% PREMIER CONVERSION' )\n",
    "axes[1].plot(Month1, B, color='red', lw = 2, linestyle='-', label = '100% PREMIER CONVERSION' )\n",
    "axes[1].set_xlabel('MONTH')\n",
    "axes[1].set_ylabel('PRICE')\n",
    "axes[1].set_title('2019 WEIGHTED AVERAGE PRICE')\n",
    "axes[1].legend(loc=0) \n",
    "axes[1].grid(True)"
   ]
  },
  {
   "cell_type": "code",
   "execution_count": 25,
   "metadata": {},
   "outputs": [
    {
     "data": {
      "text/plain": [
       "'Section 3\\n# Simulate random sampling and conversion of customers \"standard\"=>\"premier\"\\n to determine necessary conversion targets to achieve a specific rate increase goal for the upcoming year'"
      ]
     },
     "execution_count": 25,
     "metadata": {},
     "output_type": "execute_result"
    }
   ],
   "source": [
    "'''Section 3\n",
    "# Simulate random sampling and conversion of customers \"standard\"=>\"premier\"\n",
    " to determine necessary conversion targets to achieve a specific rate increase goal for the upcoming year'''"
   ]
  },
  {
   "cell_type": "code",
   "execution_count": 38,
   "metadata": {},
   "outputs": [],
   "source": [
    "def weighted_average_upper(): #weighted average if ALL \"standard\" customers convert to \"premium\"\n",
    "    data_weighted=data.copy()\n",
    "    data_weighted['weight']=data_weighted['unit_purchased']/data_weighted['unit_purchased'].sum()\n",
    "    data_weighted['rate_inc_weighted']=0\n",
    "    data_weighted.loc[data_weighted['model']=='standard','rate_increase']=.15\n",
    "    data_weighted.rate_inc_weighted=data_weighted.rate_increase*data_weighted.weight\n",
    "    average_rate_inc=data_weighted['rate_inc_weighted'].sum()\n",
    "    return average_rate_inc"
   ]
  },
  {
   "cell_type": "code",
   "execution_count": 39,
   "metadata": {},
   "outputs": [
    {
     "data": {
      "text/plain": [
       "0.06449736586992091"
      ]
     },
     "execution_count": 39,
     "metadata": {},
     "output_type": "execute_result"
    }
   ],
   "source": [
    "upper=weighted_average_upper()\n",
    "upper"
   ]
  },
  {
   "cell_type": "code",
   "execution_count": 40,
   "metadata": {},
   "outputs": [],
   "source": [
    "def weighted_average_0():#weighted average if NO \"standard\" customers convert to \"premium\"\n",
    "    data_weighted=data.copy()\n",
    "    data_weighted['weight']=data_weighted['unit_purchased']/data_weighted['unit_purchased'].sum()\n",
    "    data_weighted['rate_inc_weighted']=0\n",
    "    data_weighted.rate_inc_weighted=data_weighted.rate_increase*data_weighted.weight\n",
    "    average_rate_inc=data_weighted['rate_inc_weighted'].sum()\n",
    "    return average_rate_inc"
   ]
  },
  {
   "cell_type": "code",
   "execution_count": 41,
   "metadata": {},
   "outputs": [
    {
     "data": {
      "text/plain": [
       "0.041751510073738105"
      ]
     },
     "execution_count": 41,
     "metadata": {},
     "output_type": "execute_result"
    }
   ],
   "source": [
    "lower=weighted_average_0()\n",
    "lower"
   ]
  },
  {
   "cell_type": "code",
   "execution_count": 42,
   "metadata": {},
   "outputs": [],
   "source": [
    "def unweighted_simulation(percent_converted): #100 random sample simulator -- an unweighted, consumer-facing average\n",
    "    average_rate_inc=[]\n",
    "    while len(average_rate_inc)<100:\n",
    "        data_sim=data.copy()\n",
    "        rand_ind=[] #list of random indexes of 'standard' users\n",
    "        while len(rand_ind)<len(data_sim[data_sim.model=='standard'])*percent_converted:\n",
    "            x=np.random.randint(169,300,size=1)\n",
    "            r=int(x)\n",
    "            if r not in rand_ind:\n",
    "                rand_ind.append(r)\n",
    "            else:\n",
    "                continue\n",
    "        for i in rand_ind:\n",
    "            data_sim.loc[i,'rate_increase']=.15\n",
    "        average_rate_inc.append(data_sim['rate_increase'].mean())\n",
    "    return average_rate_inc"
   ]
  },
  {
   "cell_type": "code",
   "execution_count": 43,
   "metadata": {},
   "outputs": [],
   "source": [
    "def weighted_simulation(percent_converted):#100 random sample simulator -- a weighted, manager-facing average\n",
    "    data_weighted=data.copy()\n",
    "    data_weighted['weight']=data_weighted['unit_purchased']/data_weighted['unit_purchased'].sum()\n",
    "    data_weighted['rate_inc_weighted']=0\n",
    "    average_rate_inc=[]\n",
    "    while len(average_rate_inc)<100:\n",
    "        data_sim_w=data_weighted.copy()\n",
    "        rand_ind=[]\n",
    "        while len(rand_ind)<len(data_sim_w[data_sim_w.model=='standard'])*percent_converted:\n",
    "            x=np.random.randint(169,300,size=1)\n",
    "            r=int(x)\n",
    "            if r not in rand_ind:\n",
    "                rand_ind.append(r)\n",
    "            else:\n",
    "                continue\n",
    "        for i in rand_ind:\n",
    "            data_sim_w.loc[i,'rate_increase']=.15\n",
    "        for i in range(0,data_sim_w['unit_purchased'].size): \n",
    "            data_sim_w.loc[i,'rate_inc_weighted']=data_sim_w.loc[i,'rate_increase']*data_weighted.loc[i,'weight']\n",
    "        average_rate_inc.append(data_sim_w['rate_inc_weighted'].sum())\n",
    "    return average_rate_inc\n"
   ]
  },
  {
   "cell_type": "code",
   "execution_count": 44,
   "metadata": {},
   "outputs": [
    {
     "data": {
      "text/html": [
       "<div>\n",
       "<style scoped>\n",
       "    .dataframe tbody tr th:only-of-type {\n",
       "        vertical-align: middle;\n",
       "    }\n",
       "\n",
       "    .dataframe tbody tr th {\n",
       "        vertical-align: top;\n",
       "    }\n",
       "\n",
       "    .dataframe thead th {\n",
       "        text-align: right;\n",
       "    }\n",
       "</style>\n",
       "<table border=\"1\" class=\"dataframe\">\n",
       "  <thead>\n",
       "    <tr style=\"text-align: right;\">\n",
       "      <th></th>\n",
       "      <th>Average Rate Increase</th>\n",
       "    </tr>\n",
       "  </thead>\n",
       "  <tbody>\n",
       "    <tr>\n",
       "      <th>0</th>\n",
       "      <td>0.083233</td>\n",
       "    </tr>\n",
       "    <tr>\n",
       "      <th>1</th>\n",
       "      <td>0.084900</td>\n",
       "    </tr>\n",
       "    <tr>\n",
       "      <th>2</th>\n",
       "      <td>0.084233</td>\n",
       "    </tr>\n",
       "    <tr>\n",
       "      <th>3</th>\n",
       "      <td>0.084567</td>\n",
       "    </tr>\n",
       "    <tr>\n",
       "      <th>4</th>\n",
       "      <td>0.085733</td>\n",
       "    </tr>\n",
       "  </tbody>\n",
       "</table>\n",
       "</div>"
      ],
      "text/plain": [
       "   Average Rate Increase\n",
       "0               0.083233\n",
       "1               0.084900\n",
       "2               0.084233\n",
       "3               0.084567\n",
       "4               0.085733"
      ]
     },
     "execution_count": 44,
     "metadata": {},
     "output_type": "execute_result"
    }
   ],
   "source": [
    "#Simulating random samples with 25% standard=>premier conversion--unweighted\n",
    "Fifty_Percent_Conversion_Unweighted=unweighted_simulation(.5)\n",
    "Fifty_Percent_Conversion_Unweighted=pd.DataFrame(Fifty_Percent_Conversion_Unweighted)\n",
    "Fifty_Percent_Conversion_Unweighted.columns=['Average Rate Increase']\n",
    "Fifty_Percent_Conversion_Unweighted.head()"
   ]
  },
  {
   "cell_type": "code",
   "execution_count": 45,
   "metadata": {},
   "outputs": [
    {
     "data": {
      "text/plain": [
       "Text(0.5, 1.0, 'Average Rate Increase for 50% Conversion Goal')"
      ]
     },
     "execution_count": 45,
     "metadata": {},
     "output_type": "execute_result"
    },
    {
     "data": {
      "image/png": "[encoded data removed]",
      "text/plain": [
       "<Figure size 432x288 with 1 Axes>"
      ]
     },
     "metadata": {
      "needs_background": "light"
     },
     "output_type": "display_data"
    }
   ],
   "source": [
    "#plotting rate increases for simulations of random 50% conversion--unweighted\n",
    "a=str(round(float(Fifty_Percent_Conversion_Unweighted.mean()*100),3))\n",
    "b=float(Fifty_Percent_Conversion_Unweighted.std())\n",
    "c=float(Fifty_Percent_Conversion_Unweighted.mean())\n",
    "d=c-4.3*b\n",
    "e=c+4.3*b\n",
    "Fifty_Percent_Conversion_Unweighted.plot(y='Average Rate Increase',kind='hist',bins=25,range=(d,e),normed=True)\n",
    "plt.vlines(Fifty_Percent_Conversion_Unweighted.mean(), 0, 400, colors='k', linestyles='solid', label='')\n",
    "plt.text(Fifty_Percent_Conversion_Unweighted.mean(),155,' Mean = %s' % a + '%')\n",
    "plt.title('Average Rate Increase for 50% Conversion Goal')"
   ]
  },
  {
   "cell_type": "code",
   "execution_count": 46,
   "metadata": {},
   "outputs": [
    {
     "data": {
      "text/html": [
       "<div>\n",
       "<style scoped>\n",
       "    .dataframe tbody tr th:only-of-type {\n",
       "        vertical-align: middle;\n",
       "    }\n",
       "\n",
       "    .dataframe tbody tr th {\n",
       "        vertical-align: top;\n",
       "    }\n",
       "\n",
       "    .dataframe thead th {\n",
       "        text-align: right;\n",
       "    }\n",
       "</style>\n",
       "<table border=\"1\" class=\"dataframe\">\n",
       "  <thead>\n",
       "    <tr style=\"text-align: right;\">\n",
       "      <th></th>\n",
       "      <th>Average Rate Increase</th>\n",
       "    </tr>\n",
       "  </thead>\n",
       "  <tbody>\n",
       "    <tr>\n",
       "      <th>0</th>\n",
       "      <td>0.045525</td>\n",
       "    </tr>\n",
       "    <tr>\n",
       "      <th>1</th>\n",
       "      <td>0.046600</td>\n",
       "    </tr>\n",
       "    <tr>\n",
       "      <th>2</th>\n",
       "      <td>0.047739</td>\n",
       "    </tr>\n",
       "    <tr>\n",
       "      <th>3</th>\n",
       "      <td>0.049430</td>\n",
       "    </tr>\n",
       "    <tr>\n",
       "      <th>4</th>\n",
       "      <td>0.046491</td>\n",
       "    </tr>\n",
       "  </tbody>\n",
       "</table>\n",
       "</div>"
      ],
      "text/plain": [
       "   Average Rate Increase\n",
       "0               0.045525\n",
       "1               0.046600\n",
       "2               0.047739\n",
       "3               0.049430\n",
       "4               0.046491"
      ]
     },
     "execution_count": 46,
     "metadata": {},
     "output_type": "execute_result"
    }
   ],
   "source": [
    "#Simulating random samples with 25% standard=>premier conversion--weighted\n",
    "Twenty_Five_Percent_Conversion_Weighted=weighted_simulation(.25)\n",
    "Twenty_Five_Percent_Conversion_Weighted=pd.DataFrame(Twenty_Five_Percent_Conversion_Weighted)\n",
    "Twenty_Five_Percent_Conversion_Weighted.columns=['Average Rate Increase']\n",
    "Twenty_Five_Percent_Conversion_Weighted.head()\n"
   ]
  },
  {
   "cell_type": "code",
   "execution_count": 47,
   "metadata": {},
   "outputs": [
    {
     "data": {
      "text/plain": [
       "Text(0.5, 1.0, 'Expected Rate Increase for 25% Conversion Goal')"
      ]
     },
     "execution_count": 47,
     "metadata": {},
     "output_type": "execute_result"
    },
    {
     "data": {
      "image/png": "[encoded data removed]",
      "text/plain": [
       "<Figure size 432x288 with 1 Axes>"
      ]
     },
     "metadata": {
      "needs_background": "light"
     },
     "output_type": "display_data"
    }
   ],
   "source": [
    "#plotting rate increases for simulations of random 25% conversion--weighted\n",
    "a=str(round(float(Twenty_Five_Percent_Conversion_Weighted.mean()*100),3))\n",
    "b=float(Twenty_Five_Percent_Conversion_Weighted.std())\n",
    "c=float(Twenty_Five_Percent_Conversion_Weighted.mean())\n",
    "d=c-4.3*b\n",
    "e=c+4.3*b\n",
    "Twenty_Five_Percent_Conversion_Weighted.plot(y='Average Rate Increase',kind='hist',bins=25,range=(d,e),normed=True)\n",
    "plt.vlines(Twenty_Five_Percent_Conversion_Weighted.mean(), 0, 200, colors='r', linestyles='solid', label='')\n",
    "plt.text(Twenty_Five_Percent_Conversion_Weighted.mean(),210,' Mean = %s' % a + '%')\n",
    "plt.vlines(upper, 0, 125, colors='k', linestyles='solid', label='')\n",
    "plt.vlines(lower, 0, 125, colors='k', linestyles='solid', label='')\n",
    "plt.text(upper-.001,150,'   100% conversion')\n",
    "plt.text(lower-.001,150,' 0% conversion')\n",
    "plt.title('Expected Rate Increase for 25% Conversion Goal')\n"
   ]
  },
  {
   "cell_type": "code",
   "execution_count": 48,
   "metadata": {},
   "outputs": [],
   "source": [
    "#Simulating random samples with 50% standard=>premier conversion--weighted\n",
    "Fifty_Percent_Conversion_Weighted=weighted_simulation(.5)\n",
    "Fifty_Percent_Conversion_Weighted=pd.DataFrame(Fifty_Percent_Conversion_Weighted)\n",
    "Fifty_Percent_Conversion_Weighted.columns=['Average Rate Increase']"
   ]
  },
  {
   "cell_type": "code",
   "execution_count": 49,
   "metadata": {},
   "outputs": [
    {
     "data": {
      "text/plain": [
       "Text(0.5, 1.0, 'Average Rate Increase for 50% Conversion Goal')"
      ]
     },
     "execution_count": 49,
     "metadata": {},
     "output_type": "execute_result"
    },
    {
     "data": {
      "image/png": "[encoded data removed]",
      "text/plain": [
       "<Figure size 432x288 with 1 Axes>"
      ]
     },
     "metadata": {
      "needs_background": "light"
     },
     "output_type": "display_data"
    }
   ],
   "source": [
    "#plotting rate increases for simulations of random 50% conversion--weighted\n",
    "a=str(round(float(Fifty_Percent_Conversion_Weighted.mean()*100),3))\n",
    "b=float(Fifty_Percent_Conversion_Weighted.std())\n",
    "c=float(Fifty_Percent_Conversion_Weighted.mean())\n",
    "d=c-4.3*b\n",
    "e=c+4.3*b\n",
    "Fifty_Percent_Conversion_Weighted.plot(y='Average Rate Increase',kind='hist',bins=25,range=(d,e),normed=True)\n",
    "plt.vlines(Fifty_Percent_Conversion_Weighted.mean(), 0, 200, colors='r', linestyles='solid', label='')\n",
    "plt.text(Fifty_Percent_Conversion_Weighted.mean(),155,' Mean = %s' % a + '%')\n",
    "plt.vlines(upper, 0, 100, colors='k', linestyles='solid', label='')\n",
    "plt.vlines(lower, 0, 100, colors='k', linestyles='solid', label='')\n",
    "plt.text(upper-.001,120,'   100% conversion')\n",
    "plt.text(lower-.001,120,' 0% conversion')\n",
    "plt.title('Average Rate Increase for 50% Conversion Goal')"
   ]
  },
  {
   "cell_type": "code",
   "execution_count": 50,
   "metadata": {},
   "outputs": [],
   "source": [
    "#Simulating random samples with 75% standard=>premier conversion--weighted\n",
    "Seventy_Five_Percent_Conversion_Weighted=weighted_simulation(.75)\n",
    "Seventy_Five_Percent_Conversion_Weighted=pd.DataFrame(Seventy_Five_Percent_Conversion_Weighted)\n",
    "Seventy_Five_Percent_Conversion_Weighted.columns=['Average Rate Increase']\n"
   ]
  },
  {
   "cell_type": "code",
   "execution_count": 51,
   "metadata": {},
   "outputs": [
    {
     "data": {
      "text/plain": [
       "Text(0.5, 1.0, 'Expected Rate Increase for 75% Conversion Goal')"
      ]
     },
     "execution_count": 51,
     "metadata": {},
     "output_type": "execute_result"
    },
    {
     "data": {
      "image/png": "[encoded data removed]",
      "text/plain": [
       "<Figure size 432x288 with 1 Axes>"
      ]
     },
     "metadata": {
      "needs_background": "light"
     },
     "output_type": "display_data"
    }
   ],
   "source": [
    "#plotting rate increases for simulations of random 75% conversion--weighted\n",
    "a=str(round(float(Seventy_Five_Percent_Conversion_Weighted.mean()*100),3))\n",
    "b=float(Seventy_Five_Percent_Conversion_Weighted.std())\n",
    "c=float(Seventy_Five_Percent_Conversion_Weighted.mean())\n",
    "d=c-4.3*b\n",
    "e=c+4.3*b\n",
    "Seventy_Five_Percent_Conversion_Weighted.plot(y='Average Rate Increase',kind='hist',bins=25,range=(d,e),normed=True)\n",
    "plt.vlines(Seventy_Five_Percent_Conversion_Weighted.mean(), 0, 215, colors='r', linestyles='solid', label='')\n",
    "plt.text(Seventy_Five_Percent_Conversion_Weighted.mean(),230,' Mean = %s' % a + '%')\n",
    "plt.vlines(upper, 0, 125, colors='k', linestyles='solid', label='')\n",
    "plt.vlines(lower, 0, 125, colors='k', linestyles='solid', label='')\n",
    "plt.text(upper-.001,150,'   100% conversion')\n",
    "plt.text(lower-.001,150,' 0% conversion')\n",
    "plt.title('Expected Rate Increase for 75% Conversion Goal')\n"
   ]
  },
  {
   "cell_type": "code",
   "execution_count": null,
   "metadata": {},
   "outputs": [],
   "source": []
  },
  {
   "cell_type": "code",
   "execution_count": null,
   "metadata": {},
   "outputs": [],
   "source": []
  }
 ],
 "metadata": {
  "kernelspec": {
   "display_name": "Python 3",
   "language": "python",
   "name": "python3"
  },
  "language_info": {
   "codemirror_mode": {
    "name": "ipython",
    "version": 3
   },
   "file_extension": ".py",
   "mimetype": "text/x-python",
   "name": "python",
   "nbconvert_exporter": "python",
   "pygments_lexer": "ipython3",
   "version": "3.7.1"
  }
 },
 "nbformat": 4,
 "nbformat_minor": 2
}
